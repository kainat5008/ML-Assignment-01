{
  "metadata": {
    "kernelspec": {
      "name": "python",
      "display_name": "Python (Pyodide)",
      "language": "python"
    },
    "language_info": {
      "codemirror_mode": {
        "name": "python",
        "version": 3
      },
      "file_extension": ".py",
      "mimetype": "text/x-python",
      "name": "python",
      "nbconvert_exporter": "python",
      "pygments_lexer": "ipython3",
      "version": "3.8"
    }
  },
  "nbformat_minor": 5,
  "nbformat": 4,
  "cells": [
    {
      "id": "60b07ea7-6cc4-4a00-899f-7cb299f2ce9a",
      "cell_type": "markdown",
      "source": "# Dataset Summary\n\n- **Dataset Name**: New York Taxi Trip enriched by Mathematica\n- **Source**: Kaggle\n- **Domain**: Transportation\n- **Target Variable**: `tripDuration` (regression)\n- **Number of Features**: 24\n- **Number of Records**: ~1.05 million\n- **Problem Type**: Regression\n- **Dataset Link**: [Kaggle Dataset Link](https://www.kaggle.com/datasets/wol4aravio/ny-taxi-trip-duration-enriched-by-mathematica)",
      "metadata": {}
    },
    {
      "id": "909c62d7-ea8d-4fd4-b704-aebfecf8f116",
      "cell_type": "markdown",
      "source": "[![Open In Colab](https://colab.research.google.com/assets/colab-badge.svg)](https://colab.research.google.com/github/kainat5008/ML-Assignment1/blob/main/Assignment1.ipynb)",
      "metadata": {}
    },
    {
      "id": "c02efc9f-6d8d-43c8-97e2-48733a817e3c",
      "cell_type": "code",
      "source": "",
      "metadata": {
        "trusted": true
      },
      "outputs": [],
      "execution_count": null
    }
  ]
}